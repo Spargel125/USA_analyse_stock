{
 "cells": [
  {
   "cell_type": "code",
   "execution_count": 2,
   "metadata": {},
   "outputs": [],
   "source": [
    "import pandas_datareader.data as web\n",
    "from pandas_datareader.nasdaq_trader import get_nasdaq_symbols\n",
    "from tqdm import tqdm\n",
    "import os\n"
   ]
  },
  {
   "cell_type": "code",
   "execution_count": 3,
   "metadata": {},
   "outputs": [],
   "source": [
    "def make_nasdaq_csv():\n",
    "    symbols = get_nasdaq_symbols()\n",
    "    #data = {}\n",
    "    error_symbols = []\n",
    "    i = 0\n",
    "    for s in tqdm(symbols.index):\n",
    "#         if i <= 3600:\n",
    "#             i = i+1\n",
    "#             continue\n",
    "        try:\n",
    "            os.mkdir('../USA_Stock/'+str(s))\n",
    "            data = web.DataReader(s,\"yahoo\")\n",
    "            data.to_csv('../USA_Stock/'+s+'/'+s+'.csv')\n",
    "        except:\n",
    "            error_symbols.append(s)\n",
    "#         i = i+1"
   ]
  },
  {
   "cell_type": "code",
   "execution_count": 4,
   "metadata": {},
   "outputs": [],
   "source": [
    "def add_nasdaq_csv():\n",
    "    print('TEST')\n",
    "    return 0"
   ]
  },
  {
   "cell_type": "code",
   "execution_count": null,
   "metadata": {},
   "outputs": [],
   "source": []
  }
 ],
 "metadata": {
  "kernelspec": {
   "display_name": "Python 3.7.4 64-bit ('base': conda)",
   "language": "python",
   "name": "python37464bitbaseconda40591c35b92f47bcb2d2642c47ff6e17"
  },
  "language_info": {
   "codemirror_mode": {
    "name": "ipython",
    "version": 3
   },
   "file_extension": ".py",
   "mimetype": "text/x-python",
   "name": "python",
   "nbconvert_exporter": "python",
   "pygments_lexer": "ipython3",
   "version": "3.7.4"
  }
 },
 "nbformat": 4,
 "nbformat_minor": 2
}
